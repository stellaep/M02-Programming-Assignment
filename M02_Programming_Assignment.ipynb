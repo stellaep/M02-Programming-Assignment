{
 "cells": [
  {
   "cell_type": "markdown",
   "id": "65bbf1e2-2f0f-4677-a2f6-8a8c7e9b9a11",
   "metadata": {},
   "source": [
    "4.1"
   ]
  },
  {
   "cell_type": "code",
   "execution_count": 4,
   "id": "8df6a1b0-5393-49f7-9480-0c560022876c",
   "metadata": {},
   "outputs": [
    {
     "name": "stdout",
     "output_type": "stream",
     "text": [
      "just right\n"
     ]
    }
   ],
   "source": [
    "secret = 7\n",
    "guess = 7\n",
    "if guess < secret:\n",
    "    print(\"too low\")\n",
    "if guess > secret:\n",
    "    print(\"too high\")\n",
    "if guess == secret:\n",
    "    print (\"just right\")"
   ]
  },
  {
   "cell_type": "markdown",
   "id": "037759d1-7d1e-4883-8b9e-d1343e573f9d",
   "metadata": {},
   "source": [
    "4.2"
   ]
  },
  {
   "cell_type": "code",
   "execution_count": 9,
   "id": "18506a28-af53-413c-888a-c9238429af06",
   "metadata": {},
   "outputs": [
    {
     "name": "stdout",
     "output_type": "stream",
     "text": [
      "cherry\n"
     ]
    }
   ],
   "source": [
    "green = False\n",
    "small = True\n",
    "if green == True and small == True:\n",
    "    fruit = \"pea\"\n",
    "if green == True and small == False:\n",
    "    fruit = \"watermelon\"\n",
    "if green == False and small == True:\n",
    "    fruit = \"cherry\"\n",
    "if green == False and small == False:\n",
    "    fruit = \"pumpkin\"\n",
    "print(fruit)"
   ]
  },
  {
   "cell_type": "markdown",
   "id": "ff8a8b52-f534-453a-af35-5ec20c1c3b29",
   "metadata": {},
   "source": [
    "6.1"
   ]
  },
  {
   "cell_type": "code",
   "execution_count": 10,
   "id": "146509f7-7186-47fd-ab94-7d43d7230706",
   "metadata": {},
   "outputs": [
    {
     "name": "stdout",
     "output_type": "stream",
     "text": [
      "3\n",
      "2\n",
      "1\n",
      "0\n"
     ]
    }
   ],
   "source": [
    "numbers = [3,2,1,0]\n",
    "for i in numbers:\n",
    "    print(i)"
   ]
  },
  {
   "cell_type": "markdown",
   "id": "81effe05-6353-474e-8ee8-b04dc7e8403e",
   "metadata": {},
   "source": [
    "6.2"
   ]
  },
  {
   "cell_type": "code",
   "execution_count": 18,
   "id": "3006e5db-bc46-452f-bb1b-8fadb1773371",
   "metadata": {},
   "outputs": [
    {
     "name": "stdout",
     "output_type": "stream",
     "text": [
      "too low\n",
      "too low\n",
      "too low\n",
      "too low\n",
      "too low\n",
      "too low\n",
      "found it!\n"
     ]
    }
   ],
   "source": [
    "guess_me = 7\n",
    "number = 1\n",
    "while number != guess_me:\n",
    "    if number < guess_me:\n",
    "        print(\"too low\")\n",
    "    if number > guess_me:\n",
    "        print(\"oops\")\n",
    "        number = guess_me\n",
    "    number += 1\n",
    "    if number == guess_me:\n",
    "        print(\"found it!\")"
   ]
  },
  {
   "cell_type": "markdown",
   "id": "fe18beb4-1b91-42bd-931e-93f9cf9ef4f6",
   "metadata": {},
   "source": [
    "6.3"
   ]
  },
  {
   "cell_type": "code",
   "execution_count": 24,
   "id": "b859344e-5e33-4014-99e7-56bad07e0b78",
   "metadata": {},
   "outputs": [
    {
     "name": "stdout",
     "output_type": "stream",
     "text": [
      "too low\n",
      "too low\n",
      "too low\n",
      "too low\n",
      "too low\n",
      "found it!\n"
     ]
    }
   ],
   "source": [
    "guess_me = 5\n",
    "for number in range(10):\n",
    "    if number < guess_me:\n",
    "        print(\"too low\")\n",
    "    if number > guess_me:\n",
    "        print(\"oops\")\n",
    "        break\n",
    "    if number == guess_me:\n",
    "        print(\"found it!\")\n",
    "        break"
   ]
  },
  {
   "cell_type": "code",
   "execution_count": null,
   "id": "100a0a1f-917b-43e9-aab2-c085f6e2c513",
   "metadata": {},
   "outputs": [],
   "source": []
  }
 ],
 "metadata": {
  "kernelspec": {
   "display_name": "Python 3 (ipykernel)",
   "language": "python",
   "name": "python3"
  },
  "language_info": {
   "codemirror_mode": {
    "name": "ipython",
    "version": 3
   },
   "file_extension": ".py",
   "mimetype": "text/x-python",
   "name": "python",
   "nbconvert_exporter": "python",
   "pygments_lexer": "ipython3",
   "version": "3.11.7"
  }
 },
 "nbformat": 4,
 "nbformat_minor": 5
}
